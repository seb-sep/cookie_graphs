{
 "cells": [
  {
   "cell_type": "code",
   "execution_count": 2,
   "metadata": {},
   "outputs": [],
   "source": [
    "# these packages can be installed off of anaconda\n",
    "# networkx creates and analyzes graphs, pydot has more visualization tools than networkx\n",
    "\n",
    "import networkx as nx\n",
    "import pydot as pd\n",
    "import matplotlib.pyplot as plt\n",
    "\n",
    "# these are the vertex and edge sets for our two cases\n",
    "# each task is represented by a letter A-L\n",
    "# an index for the tasks can be found in the shared onenote\n",
    "\n",
    "[A,B,C,D,E,F,G,H,I,J,K,L] = [\"A\",\"B\",\"C\",\"D\",\"E\",\"F\",\"G\",\"H\",\"I\",\"J\",\"K\",\"L\"]\n",
    "vertecies = [A,B,C,D,E,F,G,H,I,J,K,L]\n",
    "vertecies_stella = [A,C,D,E,F,G,H,I,J,K,L,\"cream butter\"]\n",
    "vertecies_stella_brown = [A,B,C,D,E,F,G,H,I,J,K,L,\"cream butter\",\"cool butter\"]\n",
    "edges_solo = [(A,J,940), (B,G,515), (C,D,379), (D,G,130), (G,E,310), (E,H,340), (H,F,267), (F,I,158), (I,J,150), (I,K,150), (K,L,600), (J,L,1210)]\n",
    "edges_duo = [(A,J,940), (B,G,515), (C,D,379), (D,G,130), (G,H,310), (E,F,340), (F,H,158), (H,I,267), (I,J,150), (I,K,150), (K,L,600), (J,L,1210)]\n",
    "edges_stella = [(A,J,940), (E,D,340), (D,C,130), (C,\"cream butter\",379), (\"cream butter\",G,515), (G,H,310), (H,I,267), (F,I,158), (I,J,150), (I,K,150), (J,L,1210), (K,L,600)]\n",
    "edges_stella_brown = [(B,\"cool butter\",515), (\"cool butter\",\"cream butter\",1800), (A,J,940), (E,D,340), (D,C,130), (C,\"cream butter\",379), (\"cream butter\",G,515), (G,H,310), (H,I,267), (F,I,158), (I,J,150), (I,K,150), (J,L,1210), (K,L,600)]\n",
    "\n",
    "# this function takes a vertex set and an edge set and uses networkx to construct a graph\n",
    "# i then use this function to create graphs for our one baker and two baker cases\n",
    "\n",
    "def DiGraph(vertecies, edges):\n",
    "    G = nx.DiGraph()\n",
    "    G.add_nodes_from(vertecies)\n",
    "    G.add_weighted_edges_from(edges)\n",
    "    return G\n",
    "\n",
    "solobaker = DiGraph(vertecies,edges_solo)\n",
    "dualbaker = DiGraph(vertecies,edges_duo)\n",
    "stella = DiGraph(vertecies_stella, edges_stella)\n",
    "stella_brown = DiGraph(vertecies_stella_brown, edges_stella_brown)"
   ]
  },
  {
   "cell_type": "code",
   "execution_count": 3,
   "metadata": {
    "scrolled": true
   },
   "outputs": [
    {
     "name": "stdout",
     "output_type": "stream",
     "text": [
      "['B', 'G', 'E', 'H', 'F', 'I', 'J', 'L'] 2950 49.166666666666664\n",
      "['B', 'G', 'H', 'I', 'J', 'L'] 2452 40.86666666666667\n",
      "['E', 'D', 'C', 'cream butter', 'G', 'H', 'I', 'J', 'L'] 3301 55.016666666666666\n",
      "['B', 'cool butter', 'cream butter', 'G', 'H', 'I', 'J', 'L'] 4767 79.45\n"
     ]
    }
   ],
   "source": [
    "# these print the longest path for each case, the length of that path in seconds, and the length in minutes\n",
    "\n",
    "def CPM(graph):\n",
    "    critpath = nx.dag_longest_path(graph)\n",
    "    critpathlen_sec = nx.dag_longest_path_length(graph)\n",
    "    critpathlen_min = nx.dag_longest_path_length(graph)/60\n",
    "    print(critpath, critpathlen_sec, critpathlen_min)\n",
    "\n",
    "CPM(solobaker)\n",
    "CPM(dualbaker)\n",
    "CPM(stella)\n",
    "CPM(stella_brown)"
   ]
  },
  {
   "cell_type": "code",
   "execution_count": 4,
   "metadata": {},
   "outputs": [],
   "source": [
    "solobakerdot = pd.Dot('solobakerdot', graph_type='digraph', bgcolor='white')\n",
    "dualbakerdot = pd.Dot('dualbakerdot', graph_type='digraph', bgcolor='white')\n",
    "stella_dot = pd.Dot('stellabakerdot', graph_type='digraph', bgcolor='white')\n",
    "stella_brown_dot = pd.Dot('stellabrownbakerdot', graph_type='digraph', bgcolor='white')\n",
    "\n",
    "# this function takes the vertex and edge sets from above, turns them into a pydot graph,\n",
    "# and designates the nodes that make up the critical path\n",
    "\n",
    "def constructandhighlight(vertecies, edges, dotgraph):\n",
    "    graph = DiGraph(vertecies, edges)\n",
    "    greenvert = nx.dag_longest_path(graph)\n",
    "    whitevert = vertecies\n",
    "    for i in greenvert:\n",
    "        whitevert.remove(i)\n",
    "        dotgraph.add_node(pd.Node(i, color='red'))\n",
    "    for i in whitevert:\n",
    "        dotgraph.add_node(pd.Node(i))\n",
    "    for i in edges:\n",
    "        dotgraph.add_edge(pd.Edge(i[0], i[1]))\n",
    "        \n",
    "constructandhighlight(vertecies, edges_solo, solobakerdot)\n",
    "vertecies = [A,B,C,D,E,F,G,H,I,J,K,L] # I have to redefine the vertex set otherwise it breaks. I could fix this, but a band-aid is easier\n",
    "constructandhighlight(vertecies, edges_duo, dualbakerdot)\n",
    "vertecies_stella = [A,C,D,E,F,G,H,I,J,K,L,\"cream butter\"]\n",
    "constructandhighlight(vertecies_stella, edges_stella, stella_dot)\n",
    "vertecies_stella_brown = [A,B,C,D,E,F,G,H,I,J,K,L,\"cream butter\",\"cool butter\"]\n",
    "constructandhighlight(vertecies_stella_brown, edges_stella_brown, stella_brown_dot)"
   ]
  },
  {
   "cell_type": "code",
   "execution_count": 1,
   "metadata": {},
   "outputs": [
    {
     "ename": "NameError",
     "evalue": "name 'solobakerdot' is not defined",
     "output_type": "error",
     "traceback": [
      "\u001b[1;31m---------------------------------------------------------------------------\u001b[0m",
      "\u001b[1;31mNameError\u001b[0m                                 Traceback (most recent call last)",
      "\u001b[1;32m<ipython-input-1-631df9b4e1d0>\u001b[0m in \u001b[0;36m<module>\u001b[1;34m\u001b[0m\n\u001b[0;32m      1\u001b[0m \u001b[1;31m# these save the pydot graph visualizations as png files in the same directory as wherever this notebook is saved to\u001b[0m\u001b[1;33m\u001b[0m\u001b[1;33m\u001b[0m\u001b[1;33m\u001b[0m\u001b[0m\n\u001b[0;32m      2\u001b[0m \u001b[1;33m\u001b[0m\u001b[0m\n\u001b[1;32m----> 3\u001b[1;33m \u001b[0msolobakerdot\u001b[0m\u001b[1;33m.\u001b[0m\u001b[0mwrite_png\u001b[0m\u001b[1;33m(\u001b[0m\u001b[1;34m'solobakergraphv4.png'\u001b[0m\u001b[1;33m)\u001b[0m\u001b[1;33m\u001b[0m\u001b[1;33m\u001b[0m\u001b[0m\n\u001b[0m\u001b[0;32m      4\u001b[0m \u001b[0mdualbakerdot\u001b[0m\u001b[1;33m.\u001b[0m\u001b[0mwrite_png\u001b[0m\u001b[1;33m(\u001b[0m\u001b[1;34m'dualbakersgraphv4.png'\u001b[0m\u001b[1;33m)\u001b[0m\u001b[1;33m\u001b[0m\u001b[1;33m\u001b[0m\u001b[0m\n",
      "\u001b[1;31mNameError\u001b[0m: name 'solobakerdot' is not defined"
     ]
    }
   ],
   "source": [
    "# these save the pydot graph visualizations as png files in the same directory as wherever this notebook is saved to\n",
    "\n",
    "solobakerdot.write_png('solobakergraphv4.png')\n",
    "dualbakerdot.write_png('dualbakersgraphv4.png')"
   ]
  },
  {
   "cell_type": "code",
   "execution_count": 5,
   "metadata": {},
   "outputs": [],
   "source": [
    "stella_dot.write_png('stella_graph.png')\n",
    "stella_brown_dot.write_png('stella_brown_graph.png')"
   ]
  },
  {
   "cell_type": "code",
   "execution_count": null,
   "metadata": {},
   "outputs": [],
   "source": []
  }
 ],
 "metadata": {
  "kernelspec": {
   "display_name": "Python 3",
   "language": "python",
   "name": "python3"
  },
  "language_info": {
   "codemirror_mode": {
    "name": "ipython",
    "version": 3
   },
   "file_extension": ".py",
   "mimetype": "text/x-python",
   "name": "python",
   "nbconvert_exporter": "python",
   "pygments_lexer": "ipython3",
   "version": "3.8.5"
  }
 },
 "nbformat": 4,
 "nbformat_minor": 4
}
